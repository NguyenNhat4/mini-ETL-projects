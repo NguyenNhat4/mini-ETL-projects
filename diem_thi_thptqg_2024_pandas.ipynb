{
 "cells": [
  {
   "cell_type": "code",
   "execution_count": 25,
   "metadata": {},
   "outputs": [],
   "source": [
    "import pandas as pd\n",
    "from time import time\n",
    "import requests\n",
    "im"
   ]
  },
  {
   "cell_type": "code",
   "execution_count": 26,
   "metadata": {},
   "outputs": [],
   "source": [
    "def create_URL(input):\n",
    "    return f\"https://diemthi.vnexpress.net/index/detail/sbd/{input:08}/year/2024\""
   ]
  },
  {
   "cell_type": "code",
   "execution_count": 27,
   "metadata": {},
   "outputs": [],
   "source": [
    "def formatting_Dic(dic,id):\n",
    "    processed_dic = {}\n",
    "    processed_dic[\"SBD\"] = id\n",
    "    Mon = dic[\"Môn thi\"]\n",
    "    Diem = dic[\"Điểm\"]  \n",
    "    for index in Mon:\n",
    "        processed_dic[Mon[index]] = Diem[index]\n",
    "    return processed_dic\n",
    "    \n",
    "\n",
    "\n"
   ]
  },
  {
   "cell_type": "code",
   "execution_count": 28,
   "metadata": {},
   "outputs": [],
   "source": [
    "global_dictionary = []"
   ]
  },
  {
   "cell_type": "code",
   "execution_count": 29,
   "metadata": {},
   "outputs": [],
   "source": [
    "diemhocsinh = [27006505,12002191,2037983,27006505,17008658,17001848]"
   ]
  },
  {
   "cell_type": "code",
   "execution_count": null,
   "metadata": {},
   "outputs": [],
   "source": [
    "response "
   ]
  },
  {
   "cell_type": "code",
   "execution_count": 30,
   "metadata": {},
   "outputs": [
    {
     "name": "stdout",
     "output_type": "stream",
     "text": [
      "found 27006505\n",
      "\n",
      "found 12002191\n",
      "\n",
      "found 02037983\n",
      "\n",
      "found 27006505\n",
      "\n",
      "found 17008658\n",
      "\n",
      "found 17001848\n",
      "\n"
     ]
    }
   ],
   "source": [
    "for i in diemhocsinh:\n",
    "    try:\n",
    "        table = pd.read_html(create_URL(i))\n",
    "    except:\n",
    "        print(f\"sbd {i:08} not found\\n\")\n",
    "    else:\n",
    "        id = f\"{i:08}\"\n",
    "        print(f\"found {id}\\n\")\n",
    "        dic = table[0].to_dict()\n",
    "        global_dictionary.append(formatting_Dic(dic,id))\n",
    "\n",
    "                \n",
    "\n",
    "\n"
   ]
  },
  {
   "cell_type": "code",
   "execution_count": 7,
   "metadata": {},
   "outputs": [],
   "source": [
    "df = pd.DataFrame(global_dictionary)"
   ]
  },
  {
   "cell_type": "code",
   "execution_count": 8,
   "metadata": {},
   "outputs": [
    {
     "data": {
      "text/html": [
       "<div>\n",
       "<style scoped>\n",
       "    .dataframe tbody tr th:only-of-type {\n",
       "        vertical-align: middle;\n",
       "    }\n",
       "\n",
       "    .dataframe tbody tr th {\n",
       "        vertical-align: top;\n",
       "    }\n",
       "\n",
       "    .dataframe thead th {\n",
       "        text-align: right;\n",
       "    }\n",
       "</style>\n",
       "<table border=\"1\" class=\"dataframe\">\n",
       "  <thead>\n",
       "    <tr style=\"text-align: right;\">\n",
       "      <th></th>\n",
       "      <th>SBD</th>\n",
       "      <th>Toán</th>\n",
       "      <th>Ngữ văn</th>\n",
       "      <th>Ngoại ngữ</th>\n",
       "      <th>Vật lý</th>\n",
       "      <th>Hóa học</th>\n",
       "      <th>Sinh học</th>\n",
       "      <th>NaN</th>\n",
       "      <th>Lịch sử</th>\n",
       "      <th>Địa lý</th>\n",
       "      <th>Giáo dục công dân</th>\n",
       "    </tr>\n",
       "  </thead>\n",
       "  <tbody>\n",
       "    <tr>\n",
       "      <th>0</th>\n",
       "      <td>27006505</td>\n",
       "      <td>9.8</td>\n",
       "      <td>8.25</td>\n",
       "      <td>7.4</td>\n",
       "      <td>9.50</td>\n",
       "      <td>9.25</td>\n",
       "      <td>8.5</td>\n",
       "      <td>NaN</td>\n",
       "      <td>NaN</td>\n",
       "      <td>NaN</td>\n",
       "      <td>NaN</td>\n",
       "    </tr>\n",
       "    <tr>\n",
       "      <th>1</th>\n",
       "      <td>12002191</td>\n",
       "      <td>9.8</td>\n",
       "      <td>8.50</td>\n",
       "      <td>8.4</td>\n",
       "      <td>9.25</td>\n",
       "      <td>9.25</td>\n",
       "      <td>8.0</td>\n",
       "      <td>NaN</td>\n",
       "      <td>NaN</td>\n",
       "      <td>NaN</td>\n",
       "      <td>NaN</td>\n",
       "    </tr>\n",
       "    <tr>\n",
       "      <th>2</th>\n",
       "      <td>02037983</td>\n",
       "      <td>9.8</td>\n",
       "      <td>7.75</td>\n",
       "      <td>7.0</td>\n",
       "      <td>9.50</td>\n",
       "      <td>9.75</td>\n",
       "      <td>8.0</td>\n",
       "      <td>NaN</td>\n",
       "      <td>NaN</td>\n",
       "      <td>NaN</td>\n",
       "      <td>NaN</td>\n",
       "    </tr>\n",
       "    <tr>\n",
       "      <th>3</th>\n",
       "      <td>27006505</td>\n",
       "      <td>9.8</td>\n",
       "      <td>8.25</td>\n",
       "      <td>7.4</td>\n",
       "      <td>9.50</td>\n",
       "      <td>9.25</td>\n",
       "      <td>8.5</td>\n",
       "      <td>NaN</td>\n",
       "      <td>NaN</td>\n",
       "      <td>NaN</td>\n",
       "      <td>NaN</td>\n",
       "    </tr>\n",
       "    <tr>\n",
       "      <th>4</th>\n",
       "      <td>17008658</td>\n",
       "      <td>8.0</td>\n",
       "      <td>8.75</td>\n",
       "      <td>7.6</td>\n",
       "      <td>NaN</td>\n",
       "      <td>NaN</td>\n",
       "      <td>NaN</td>\n",
       "      <td>NaN</td>\n",
       "      <td>7.75</td>\n",
       "      <td>9.75</td>\n",
       "      <td>10.0</td>\n",
       "    </tr>\n",
       "    <tr>\n",
       "      <th>5</th>\n",
       "      <td>17001848</td>\n",
       "      <td>8.0</td>\n",
       "      <td>8.75</td>\n",
       "      <td>8.6</td>\n",
       "      <td>NaN</td>\n",
       "      <td>NaN</td>\n",
       "      <td>NaN</td>\n",
       "      <td>NaN</td>\n",
       "      <td>7.25</td>\n",
       "      <td>8.25</td>\n",
       "      <td>10.0</td>\n",
       "    </tr>\n",
       "  </tbody>\n",
       "</table>\n",
       "</div>"
      ],
      "text/plain": [
       "        SBD  Toán  Ngữ văn  Ngoại ngữ  Vật lý  Hóa học  Sinh học  NaN  \\\n",
       "0  27006505   9.8     8.25        7.4    9.50     9.25       8.5  NaN   \n",
       "1  12002191   9.8     8.50        8.4    9.25     9.25       8.0  NaN   \n",
       "2  02037983   9.8     7.75        7.0    9.50     9.75       8.0  NaN   \n",
       "3  27006505   9.8     8.25        7.4    9.50     9.25       8.5  NaN   \n",
       "4  17008658   8.0     8.75        7.6     NaN      NaN       NaN  NaN   \n",
       "5  17001848   8.0     8.75        8.6     NaN      NaN       NaN  NaN   \n",
       "\n",
       "   Lịch sử  Địa lý  Giáo dục công dân  \n",
       "0      NaN     NaN                NaN  \n",
       "1      NaN     NaN                NaN  \n",
       "2      NaN     NaN                NaN  \n",
       "3      NaN     NaN                NaN  \n",
       "4     7.75    9.75               10.0  \n",
       "5     7.25    8.25               10.0  "
      ]
     },
     "execution_count": 8,
     "metadata": {},
     "output_type": "execute_result"
    }
   ],
   "source": [
    "df"
   ]
  },
  {
   "cell_type": "code",
   "execution_count": null,
   "metadata": {},
   "outputs": [],
   "source": []
  }
 ],
 "metadata": {
  "kernelspec": {
   "display_name": "Python 3",
   "language": "python",
   "name": "python3"
  },
  "language_info": {
   "codemirror_mode": {
    "name": "ipython",
    "version": 3
   },
   "file_extension": ".py",
   "mimetype": "text/x-python",
   "name": "python",
   "nbconvert_exporter": "python",
   "pygments_lexer": "ipython3",
   "version": "3.12.3"
  }
 },
 "nbformat": 4,
 "nbformat_minor": 2
}
